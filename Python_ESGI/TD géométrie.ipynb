{
  "cells": [
    {
      "cell_type": "code",
      "source": "from IPython.display import display, HTML\ndisplay(HTML(\"\"\"<button type=\"button\" id=\"button_for_indexeddb\">Clear notebook ESGI_1A/TD géométrie.ipynb</button>    <script>    window.button_for_indexeddb.onclick = function(e) {        window.indexedDB.open('JupyterLite Storage').onsuccess = function(e) {            let tables = [\"checkpoints\", \"files\"];            let t = e.target.result.transaction(tables, \"readwrite\");            function clearNotenook(tablename) {                t.objectStore(tablename).delete('ESGI_1A/TD géométrie.ipynb').onsuccess = function(e) {                    console.log(\"Deleted ESGI_1A/TD géométrie.ipynb state in \" + tablename + \" (\" + e.target.result + \")\");                }            }            for (let tablename of tables) {                clearNotenook(tablename);            }        }    };    </script>\"\"\"))",
      "metadata": {}
    },
    {
      "cell_type": "markdown",
      "id": "892167b5-9c3a-4759-a059-1a51b8a479c5",
      "metadata": {},
      "source": [
        "# Géométrie\n",
        "\n",
        "Écrire des fonctions qui permettent d'afficher les formes géométriques suivantes:\n",
        "\n",
        "<table>\n",
        "    <tr>\n",
        "       <td>rectangle</td> <td>triangle</td> <td>autre triangle</td> <td>diamant</td> <td> rectangle creux</td><td> rayures </td> <td>croix</td>\n",
        "    </tr>\n",
        "    <tr>\n",
        "<td>\n",
        "    \n",
        "  ```\n",
        "  *****\n",
        "  *****\n",
        "  *****\n",
        "  ```\n",
        "    \n",
        "</td><td>\n",
        "\n",
        "  ```\n",
        "  *\n",
        "  **\n",
        "  ***\n",
        "  ****\n",
        "  ```\n",
        "\n",
        "</td><td>\n",
        "\n",
        "  ```\n",
        "     *\n",
        "    **\n",
        "   ***\n",
        "  ****\n",
        "  ```\n",
        "    \n",
        "</td><td>\n",
        "\n",
        "  ```\n",
        "     *\n",
        "    ***\n",
        "   *****\n",
        "  *******\n",
        "   *****\n",
        "    ***\n",
        "     *\n",
        "  ```\n",
        "    \n",
        "</td><td>\n",
        "\n",
        "```\n",
        "***********\n",
        "*         *\n",
        "*         *\n",
        "***********\n",
        "```    \n",
        "\n",
        "</td>\n",
        "\n",
        "</td><td>\n",
        "\n",
        "```\n",
        "*   *   *   *   *\n",
        "   *   *   *   *\n",
        "  *   *   *   *\n",
        " *   *   *   *   *\n",
        "```    \n",
        "\n",
        "</td><td>\n",
        "\n",
        "```\n",
        "*   *\n",
        " * * \n",
        "  *\n",
        " * *\n",
        "*   *\n",
        "```    \n",
        "    \n",
        "</td>\n",
        "</tr>\n",
        "</table\n",
        "\n",
        "**Note:** La taille des figures sera passée en paramètres des fonctions."
      ]
    },
    {
      "cell_type": "markdown",
      "id": "5c867049-ab86-437a-bbf4-ee61fa7f879d",
      "metadata": {},
      "source": [
        "## Exemple"
      ]
    },
    {
      "cell_type": "code",
      "execution_count": 24,
      "id": "bdffad2d-1866-4a0e-b0d8-0e4529361855",
      "metadata": {},
      "outputs": [],
      "source": [
        "def affiche_ligne(n: int):\n",
        "    print(\"*\" * n)\n",
        "\n",
        "\n",
        "affiche_ligne(5)\n",
        "affiche_ligne(10)"
      ]
    },
    {
      "cell_type": "markdown",
      "id": "ae1c7097-9136-460a-8417-c25f506def38",
      "metadata": {},
      "source": [
        "Points séparés:"
      ]
    },
    {
      "cell_type": "code",
      "execution_count": 26,
      "id": "4ae65448-89e5-4afc-b85b-9a90eeedb7ba",
      "metadata": {},
      "outputs": [],
      "source": [
        "print(\"*\" + \" \" * 5 + \"*\" + \" \" * 5 + \"*\")"
      ]
    }
  ],
  "metadata": {
    "kernelspec": {
      "display_name": "Python 3 (ipykernel)",
      "language": "python",
      "name": "python3"
    },
    "language_info": {
      "codemirror_mode": {
        "name": "ipython",
        "version": 3
      },
      "file_extension": ".py",
      "mimetype": "text/x-python",
      "name": "python",
      "nbconvert_exporter": "python",
      "pygments_lexer": "ipython3",
      "version": "3.11.8"
    }
  },
  "nbformat": 4,
  "nbformat_minor": 5
}